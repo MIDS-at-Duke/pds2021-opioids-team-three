{
 "cells": [
  {
   "cell_type": "markdown",
   "metadata": {},
   "source": [
    "### Merging data **by Larissa**\n",
    "Here we will merge the following cleaned datasets:\n",
    "- prescription from Florida, Kenntucky, North Carolina, \n",
    "- death data from all states\n",
    "- census data from all states\n",
    "\n",
    "---"
   ]
  },
  {
   "cell_type": "markdown",
   "metadata": {},
   "source": [
    "Import first dataset containing prescription data"
   ]
  },
  {
   "cell_type": "code",
   "execution_count": 28,
   "metadata": {},
   "outputs": [
    {
     "data": {
      "text/html": [
       "<div>\n",
       "<style scoped>\n",
       "    .dataframe tbody tr th:only-of-type {\n",
       "        vertical-align: middle;\n",
       "    }\n",
       "\n",
       "    .dataframe tbody tr th {\n",
       "        vertical-align: top;\n",
       "    }\n",
       "\n",
       "    .dataframe thead th {\n",
       "        text-align: right;\n",
       "    }\n",
       "</style>\n",
       "<table border=\"1\" class=\"dataframe\">\n",
       "  <thead>\n",
       "    <tr style=\"text-align: right;\">\n",
       "      <th></th>\n",
       "      <th>BUYER_COUNTY</th>\n",
       "      <th>T_DATE</th>\n",
       "      <th>MME</th>\n",
       "      <th>State</th>\n",
       "    </tr>\n",
       "  </thead>\n",
       "  <tbody>\n",
       "    <tr>\n",
       "      <th>0</th>\n",
       "      <td>ALACHUA</td>\n",
       "      <td>2006</td>\n",
       "      <td>1.645948e+12</td>\n",
       "      <td>Florida</td>\n",
       "    </tr>\n",
       "    <tr>\n",
       "      <th>1</th>\n",
       "      <td>ALACHUA</td>\n",
       "      <td>2007</td>\n",
       "      <td>1.972812e+12</td>\n",
       "      <td>Florida</td>\n",
       "    </tr>\n",
       "    <tr>\n",
       "      <th>2</th>\n",
       "      <td>ALACHUA</td>\n",
       "      <td>2008</td>\n",
       "      <td>2.540522e+12</td>\n",
       "      <td>Florida</td>\n",
       "    </tr>\n",
       "    <tr>\n",
       "      <th>3</th>\n",
       "      <td>ALACHUA</td>\n",
       "      <td>2009</td>\n",
       "      <td>3.180395e+12</td>\n",
       "      <td>Florida</td>\n",
       "    </tr>\n",
       "    <tr>\n",
       "      <th>4</th>\n",
       "      <td>ALACHUA</td>\n",
       "      <td>2010</td>\n",
       "      <td>3.293852e+12</td>\n",
       "      <td>Florida</td>\n",
       "    </tr>\n",
       "  </tbody>\n",
       "</table>\n",
       "</div>"
      ],
      "text/plain": [
       "  BUYER_COUNTY  T_DATE           MME    State\n",
       "0      ALACHUA    2006  1.645948e+12  Florida\n",
       "1      ALACHUA    2007  1.972812e+12  Florida\n",
       "2      ALACHUA    2008  2.540522e+12  Florida\n",
       "3      ALACHUA    2009  3.180395e+12  Florida\n",
       "4      ALACHUA    2010  3.293852e+12  Florida"
      ]
     },
     "execution_count": 28,
     "metadata": {},
     "output_type": "execute_result"
    }
   ],
   "source": [
    "import pandas as pd\n",
    "df_prescriptions = pd.read_csv('https://raw.githubusercontent.com/MIDS-at-Duke/pds2021-opioids-team-three/main/20_intermediate/prescriptions?token=AI3GZDZGWG25Z2T5V2RXQGDBRO3WS', index_col=0)\n",
    "df_prescriptions.head()"
   ]
  },
  {
   "cell_type": "markdown",
   "metadata": {},
   "source": [
    "Renaming the column T_DATE to have it the same everywhere:"
   ]
  },
  {
   "cell_type": "code",
   "execution_count": 29,
   "metadata": {},
   "outputs": [],
   "source": [
    "df_prescriptions = df_prescriptions.rename({'T_DATE': 'Year', 'BUYER_COUNTY': 'County'}, axis = 1)"
   ]
  },
  {
   "cell_type": "markdown",
   "metadata": {},
   "source": [
    "Changing the values in County to be capitalized and lowercase to be the same as in the other dataframes:"
   ]
  },
  {
   "cell_type": "code",
   "execution_count": 30,
   "metadata": {},
   "outputs": [
    {
     "data": {
      "text/html": [
       "<div>\n",
       "<style scoped>\n",
       "    .dataframe tbody tr th:only-of-type {\n",
       "        vertical-align: middle;\n",
       "    }\n",
       "\n",
       "    .dataframe tbody tr th {\n",
       "        vertical-align: top;\n",
       "    }\n",
       "\n",
       "    .dataframe thead th {\n",
       "        text-align: right;\n",
       "    }\n",
       "</style>\n",
       "<table border=\"1\" class=\"dataframe\">\n",
       "  <thead>\n",
       "    <tr style=\"text-align: right;\">\n",
       "      <th></th>\n",
       "      <th>County</th>\n",
       "      <th>Year</th>\n",
       "      <th>MME</th>\n",
       "      <th>State</th>\n",
       "    </tr>\n",
       "  </thead>\n",
       "  <tbody>\n",
       "    <tr>\n",
       "      <th>0</th>\n",
       "      <td>Alachua</td>\n",
       "      <td>2006</td>\n",
       "      <td>1.645948e+12</td>\n",
       "      <td>Florida</td>\n",
       "    </tr>\n",
       "    <tr>\n",
       "      <th>1</th>\n",
       "      <td>Alachua</td>\n",
       "      <td>2007</td>\n",
       "      <td>1.972812e+12</td>\n",
       "      <td>Florida</td>\n",
       "    </tr>\n",
       "    <tr>\n",
       "      <th>2</th>\n",
       "      <td>Alachua</td>\n",
       "      <td>2008</td>\n",
       "      <td>2.540522e+12</td>\n",
       "      <td>Florida</td>\n",
       "    </tr>\n",
       "    <tr>\n",
       "      <th>3</th>\n",
       "      <td>Alachua</td>\n",
       "      <td>2009</td>\n",
       "      <td>3.180395e+12</td>\n",
       "      <td>Florida</td>\n",
       "    </tr>\n",
       "    <tr>\n",
       "      <th>4</th>\n",
       "      <td>Alachua</td>\n",
       "      <td>2010</td>\n",
       "      <td>3.293852e+12</td>\n",
       "      <td>Florida</td>\n",
       "    </tr>\n",
       "  </tbody>\n",
       "</table>\n",
       "</div>"
      ],
      "text/plain": [
       "    County  Year           MME    State\n",
       "0  Alachua  2006  1.645948e+12  Florida\n",
       "1  Alachua  2007  1.972812e+12  Florida\n",
       "2  Alachua  2008  2.540522e+12  Florida\n",
       "3  Alachua  2009  3.180395e+12  Florida\n",
       "4  Alachua  2010  3.293852e+12  Florida"
      ]
     },
     "execution_count": 30,
     "metadata": {},
     "output_type": "execute_result"
    }
   ],
   "source": [
    "df_prescriptions['County'] = df_prescriptions['County'].str.lower()\n",
    "df_prescriptions['County'] = df_prescriptions['County'].str.capitalize()\n",
    "df_prescriptions.head()"
   ]
  },
  {
   "cell_type": "markdown",
   "metadata": {},
   "source": [
    "Checking missing data"
   ]
  },
  {
   "cell_type": "code",
   "execution_count": 31,
   "metadata": {},
   "outputs": [
    {
     "data": {
      "text/plain": [
       "County    0\n",
       "Year      0\n",
       "MME       0\n",
       "State     0\n",
       "dtype: int64"
      ]
     },
     "execution_count": 31,
     "metadata": {},
     "output_type": "execute_result"
    }
   ],
   "source": [
    "df_prescriptions.isna().sum()"
   ]
  },
  {
   "cell_type": "markdown",
   "metadata": {},
   "source": [
    "Importing thr second dataset containing the death data"
   ]
  },
  {
   "cell_type": "code",
   "execution_count": 32,
   "metadata": {},
   "outputs": [
    {
     "data": {
      "text/html": [
       "<div>\n",
       "<style scoped>\n",
       "    .dataframe tbody tr th:only-of-type {\n",
       "        vertical-align: middle;\n",
       "    }\n",
       "\n",
       "    .dataframe tbody tr th {\n",
       "        vertical-align: top;\n",
       "    }\n",
       "\n",
       "    .dataframe thead th {\n",
       "        text-align: right;\n",
       "    }\n",
       "</style>\n",
       "<table border=\"1\" class=\"dataframe\">\n",
       "  <thead>\n",
       "    <tr style=\"text-align: right;\">\n",
       "      <th></th>\n",
       "      <th>County</th>\n",
       "      <th>County Code</th>\n",
       "      <th>Year</th>\n",
       "      <th>Deaths</th>\n",
       "      <th>State</th>\n",
       "    </tr>\n",
       "  </thead>\n",
       "  <tbody>\n",
       "    <tr>\n",
       "      <th>0</th>\n",
       "      <td>Acadia Parish</td>\n",
       "      <td>22001.0</td>\n",
       "      <td>2003.0</td>\n",
       "      <td>11.0</td>\n",
       "      <td>LA</td>\n",
       "    </tr>\n",
       "    <tr>\n",
       "      <th>1</th>\n",
       "      <td>Acadia Parish</td>\n",
       "      <td>22001.0</td>\n",
       "      <td>2005.0</td>\n",
       "      <td>23.0</td>\n",
       "      <td>LA</td>\n",
       "    </tr>\n",
       "    <tr>\n",
       "      <th>2</th>\n",
       "      <td>Acadia Parish</td>\n",
       "      <td>22001.0</td>\n",
       "      <td>2006.0</td>\n",
       "      <td>19.0</td>\n",
       "      <td>LA</td>\n",
       "    </tr>\n",
       "    <tr>\n",
       "      <th>3</th>\n",
       "      <td>Acadia Parish</td>\n",
       "      <td>22001.0</td>\n",
       "      <td>2007.0</td>\n",
       "      <td>19.0</td>\n",
       "      <td>LA</td>\n",
       "    </tr>\n",
       "    <tr>\n",
       "      <th>4</th>\n",
       "      <td>Acadia Parish</td>\n",
       "      <td>22001.0</td>\n",
       "      <td>2009.0</td>\n",
       "      <td>11.0</td>\n",
       "      <td>LA</td>\n",
       "    </tr>\n",
       "  </tbody>\n",
       "</table>\n",
       "</div>"
      ],
      "text/plain": [
       "          County  County Code    Year Deaths State\n",
       "0  Acadia Parish      22001.0  2003.0   11.0    LA\n",
       "1  Acadia Parish      22001.0  2005.0   23.0    LA\n",
       "2  Acadia Parish      22001.0  2006.0   19.0    LA\n",
       "3  Acadia Parish      22001.0  2007.0   19.0    LA\n",
       "4  Acadia Parish      22001.0  2009.0   11.0    LA"
      ]
     },
     "execution_count": 32,
     "metadata": {},
     "output_type": "execute_result"
    }
   ],
   "source": [
    "df_deaths = pd.read_csv('https://raw.githubusercontent.com/MIDS-at-Duke/pds2021-opioids-team-three/main/20_intermediate_files/deaths.csv?token=AI3GZD6NJFVWRHJMICW5FSTBRO4Z2')\n",
    "df_deaths.head()"
   ]
  },
  {
   "cell_type": "markdown",
   "metadata": {},
   "source": [
    "Changing the datatype of Year from float to int to have the same data format for Year in all dataframes"
   ]
  },
  {
   "cell_type": "code",
   "execution_count": 33,
   "metadata": {},
   "outputs": [
    {
     "data": {
      "text/html": [
       "<div>\n",
       "<style scoped>\n",
       "    .dataframe tbody tr th:only-of-type {\n",
       "        vertical-align: middle;\n",
       "    }\n",
       "\n",
       "    .dataframe tbody tr th {\n",
       "        vertical-align: top;\n",
       "    }\n",
       "\n",
       "    .dataframe thead th {\n",
       "        text-align: right;\n",
       "    }\n",
       "</style>\n",
       "<table border=\"1\" class=\"dataframe\">\n",
       "  <thead>\n",
       "    <tr style=\"text-align: right;\">\n",
       "      <th></th>\n",
       "      <th>County</th>\n",
       "      <th>County Code</th>\n",
       "      <th>Year</th>\n",
       "      <th>Deaths</th>\n",
       "      <th>State</th>\n",
       "    </tr>\n",
       "  </thead>\n",
       "  <tbody>\n",
       "    <tr>\n",
       "      <th>0</th>\n",
       "      <td>Acadia Parish</td>\n",
       "      <td>22001.0</td>\n",
       "      <td>2003</td>\n",
       "      <td>11.0</td>\n",
       "      <td>LA</td>\n",
       "    </tr>\n",
       "    <tr>\n",
       "      <th>1</th>\n",
       "      <td>Acadia Parish</td>\n",
       "      <td>22001.0</td>\n",
       "      <td>2005</td>\n",
       "      <td>23.0</td>\n",
       "      <td>LA</td>\n",
       "    </tr>\n",
       "    <tr>\n",
       "      <th>2</th>\n",
       "      <td>Acadia Parish</td>\n",
       "      <td>22001.0</td>\n",
       "      <td>2006</td>\n",
       "      <td>19.0</td>\n",
       "      <td>LA</td>\n",
       "    </tr>\n",
       "    <tr>\n",
       "      <th>3</th>\n",
       "      <td>Acadia Parish</td>\n",
       "      <td>22001.0</td>\n",
       "      <td>2007</td>\n",
       "      <td>19.0</td>\n",
       "      <td>LA</td>\n",
       "    </tr>\n",
       "    <tr>\n",
       "      <th>4</th>\n",
       "      <td>Acadia Parish</td>\n",
       "      <td>22001.0</td>\n",
       "      <td>2009</td>\n",
       "      <td>11.0</td>\n",
       "      <td>LA</td>\n",
       "    </tr>\n",
       "  </tbody>\n",
       "</table>\n",
       "</div>"
      ],
      "text/plain": [
       "          County  County Code  Year Deaths State\n",
       "0  Acadia Parish      22001.0  2003   11.0    LA\n",
       "1  Acadia Parish      22001.0  2005   23.0    LA\n",
       "2  Acadia Parish      22001.0  2006   19.0    LA\n",
       "3  Acadia Parish      22001.0  2007   19.0    LA\n",
       "4  Acadia Parish      22001.0  2009   11.0    LA"
      ]
     },
     "execution_count": 33,
     "metadata": {},
     "output_type": "execute_result"
    }
   ],
   "source": [
    "df_deaths[\"Year\"]= df_deaths[\"Year\"].astype('int64')\n",
    "df_deaths.head()"
   ]
  },
  {
   "cell_type": "markdown",
   "metadata": {},
   "source": [
    "Checking missing data"
   ]
  },
  {
   "cell_type": "code",
   "execution_count": 34,
   "metadata": {},
   "outputs": [
    {
     "data": {
      "text/plain": [
       "County         0\n",
       "County Code    0\n",
       "Year           0\n",
       "Deaths         0\n",
       "State          0\n",
       "dtype: int64"
      ]
     },
     "execution_count": 34,
     "metadata": {},
     "output_type": "execute_result"
    }
   ],
   "source": [
    "df_deaths.isna().sum()"
   ]
  },
  {
   "cell_type": "markdown",
   "metadata": {},
   "source": [
    "Importing the third datasset containing census data"
   ]
  },
  {
   "cell_type": "code",
   "execution_count": 36,
   "metadata": {},
   "outputs": [
    {
     "data": {
      "text/html": [
       "<div>\n",
       "<style scoped>\n",
       "    .dataframe tbody tr th:only-of-type {\n",
       "        vertical-align: middle;\n",
       "    }\n",
       "\n",
       "    .dataframe tbody tr th {\n",
       "        vertical-align: top;\n",
       "    }\n",
       "\n",
       "    .dataframe thead th {\n",
       "        text-align: right;\n",
       "    }\n",
       "</style>\n",
       "<table border=\"1\" class=\"dataframe\">\n",
       "  <thead>\n",
       "    <tr style=\"text-align: right;\">\n",
       "      <th></th>\n",
       "      <th>State</th>\n",
       "      <th>County</th>\n",
       "      <th>Year</th>\n",
       "      <th>Population</th>\n",
       "    </tr>\n",
       "  </thead>\n",
       "  <tbody>\n",
       "    <tr>\n",
       "      <th>0</th>\n",
       "      <td>Alabama</td>\n",
       "      <td>Autauga County</td>\n",
       "      <td>2006</td>\n",
       "      <td>49105.0</td>\n",
       "    </tr>\n",
       "    <tr>\n",
       "      <th>1</th>\n",
       "      <td>Alabama</td>\n",
       "      <td>Baldwin County</td>\n",
       "      <td>2006</td>\n",
       "      <td>168516.0</td>\n",
       "    </tr>\n",
       "    <tr>\n",
       "      <th>2</th>\n",
       "      <td>Alabama</td>\n",
       "      <td>Barbour County</td>\n",
       "      <td>2006</td>\n",
       "      <td>29556.0</td>\n",
       "    </tr>\n",
       "    <tr>\n",
       "      <th>3</th>\n",
       "      <td>Alabama</td>\n",
       "      <td>Bibb County</td>\n",
       "      <td>2006</td>\n",
       "      <td>21285.0</td>\n",
       "    </tr>\n",
       "    <tr>\n",
       "      <th>4</th>\n",
       "      <td>Alabama</td>\n",
       "      <td>Blount County</td>\n",
       "      <td>2006</td>\n",
       "      <td>55978.0</td>\n",
       "    </tr>\n",
       "  </tbody>\n",
       "</table>\n",
       "</div>"
      ],
      "text/plain": [
       "     State          County  Year  Population\n",
       "0  Alabama  Autauga County  2006     49105.0\n",
       "1  Alabama  Baldwin County  2006    168516.0\n",
       "2  Alabama  Barbour County  2006     29556.0\n",
       "3  Alabama     Bibb County  2006     21285.0\n",
       "4  Alabama   Blount County  2006     55978.0"
      ]
     },
     "execution_count": 36,
     "metadata": {},
     "output_type": "execute_result"
    }
   ],
   "source": [
    "df_census = pd.read_csv('https://raw.githubusercontent.com/MIDS-at-Duke/pds2021-opioids-team-three/main/MidSemester/20_intermediates/CountyPopulations.csv?token=AI3GZD36R6FVBM277DEVPB3BRRDSC', index_col= 0)\n",
    "df_census.head()"
   ]
  },
  {
   "cell_type": "markdown",
   "metadata": {},
   "source": [
    "Checking missing data"
   ]
  },
  {
   "cell_type": "code",
   "execution_count": 37,
   "metadata": {},
   "outputs": [
    {
     "data": {
      "text/plain": [
       "State         0\n",
       "County        0\n",
       "Year          0\n",
       "Population    6\n",
       "dtype: int64"
      ]
     },
     "execution_count": 37,
     "metadata": {},
     "output_type": "execute_result"
    }
   ],
   "source": [
    "df_census.isna().sum()"
   ]
  },
  {
   "cell_type": "markdown",
   "metadata": {},
   "source": [
    "### Next step merging\n",
    "I willbe merging all three datasets into one via a left join on prescription because that is the table where we want all the rows from\n",
    "\n",
    "---"
   ]
  },
  {
   "cell_type": "markdown",
   "metadata": {},
   "source": [
    "Because we have multiple dataframes and not only 2 we can't just simply merge. First, we create a list with our three dataframes."
   ]
  },
  {
   "cell_type": "code",
   "execution_count": 46,
   "metadata": {},
   "outputs": [],
   "source": [
    "# compile  list of dataframes we want to merge\n",
    "data_frames = [df_prescriptions, df_deaths, df_census]"
   ]
  },
  {
   "cell_type": "markdown",
   "metadata": {},
   "source": [
    "Function merging the three dataframes, outer join to not loose any data. Merging on County, Year, State  which can be found in every of the three datasets. "
   ]
  },
  {
   "cell_type": "code",
   "execution_count": 54,
   "metadata": {},
   "outputs": [],
   "source": [
    "from functools import reduce\n",
    "df_merged = reduce(lambda  left,right: pd.merge(left,right,on=['County', 'Year', 'State'],\n",
    "                                  how='outer', validate = 'one_to_one'), data_frames)"
   ]
  },
  {
   "cell_type": "markdown",
   "metadata": {},
   "source": [
    "Looking at the merged data, and the missing data."
   ]
  },
  {
   "cell_type": "code",
   "execution_count": 58,
   "metadata": {},
   "outputs": [
    {
     "data": {
      "text/plain": [
       "County             0\n",
       "Year               0\n",
       "MME            39345\n",
       "State              0\n",
       "County Code    35342\n",
       "Deaths         35342\n",
       "Population     11853\n",
       "dtype: int64"
      ]
     },
     "execution_count": 58,
     "metadata": {},
     "output_type": "execute_result"
    }
   ],
   "source": [
    "df_merged.head()\n",
    "df_merged.isna().sum()\n"
   ]
  },
  {
   "cell_type": "code",
   "execution_count": 49,
   "metadata": {},
   "outputs": [
    {
     "data": {
      "text/html": [
       "<div>\n",
       "<style scoped>\n",
       "    .dataframe tbody tr th:only-of-type {\n",
       "        vertical-align: middle;\n",
       "    }\n",
       "\n",
       "    .dataframe tbody tr th {\n",
       "        vertical-align: top;\n",
       "    }\n",
       "\n",
       "    .dataframe thead th {\n",
       "        text-align: right;\n",
       "    }\n",
       "</style>\n",
       "<table border=\"1\" class=\"dataframe\">\n",
       "  <thead>\n",
       "    <tr style=\"text-align: right;\">\n",
       "      <th></th>\n",
       "      <th>Year</th>\n",
       "      <th>MME</th>\n",
       "      <th>County Code</th>\n",
       "      <th>Population</th>\n",
       "    </tr>\n",
       "  </thead>\n",
       "  <tbody>\n",
       "    <tr>\n",
       "      <th>count</th>\n",
       "      <td>43267.000000</td>\n",
       "      <td>3.922000e+03</td>\n",
       "      <td>7925.000000</td>\n",
       "      <td>3.141400e+04</td>\n",
       "    </tr>\n",
       "    <tr>\n",
       "      <th>mean</th>\n",
       "      <td>2010.306469</td>\n",
       "      <td>2.347498e+12</td>\n",
       "      <td>29500.645552</td>\n",
       "      <td>9.857610e+04</td>\n",
       "    </tr>\n",
       "    <tr>\n",
       "      <th>std</th>\n",
       "      <td>3.025097</td>\n",
       "      <td>1.662164e+13</td>\n",
       "      <td>15569.975591</td>\n",
       "      <td>3.169170e+05</td>\n",
       "    </tr>\n",
       "    <tr>\n",
       "      <th>min</th>\n",
       "      <td>2003.000000</td>\n",
       "      <td>3.027000e+02</td>\n",
       "      <td>1003.000000</td>\n",
       "      <td>4.000000e+01</td>\n",
       "    </tr>\n",
       "    <tr>\n",
       "      <th>25%</th>\n",
       "      <td>2008.000000</td>\n",
       "      <td>7.003393e+09</td>\n",
       "      <td>17019.000000</td>\n",
       "      <td>1.100075e+04</td>\n",
       "    </tr>\n",
       "    <tr>\n",
       "      <th>50%</th>\n",
       "      <td>2010.000000</td>\n",
       "      <td>4.510575e+10</td>\n",
       "      <td>32003.000000</td>\n",
       "      <td>2.564650e+04</td>\n",
       "    </tr>\n",
       "    <tr>\n",
       "      <th>75%</th>\n",
       "      <td>2013.000000</td>\n",
       "      <td>3.389654e+11</td>\n",
       "      <td>42051.000000</td>\n",
       "      <td>6.643825e+04</td>\n",
       "    </tr>\n",
       "    <tr>\n",
       "      <th>max</th>\n",
       "      <td>2015.000000</td>\n",
       "      <td>4.258041e+14</td>\n",
       "      <td>56037.000000</td>\n",
       "      <td>1.017029e+07</td>\n",
       "    </tr>\n",
       "  </tbody>\n",
       "</table>\n",
       "</div>"
      ],
      "text/plain": [
       "               Year           MME   County Code    Population\n",
       "count  43267.000000  3.922000e+03   7925.000000  3.141400e+04\n",
       "mean    2010.306469  2.347498e+12  29500.645552  9.857610e+04\n",
       "std        3.025097  1.662164e+13  15569.975591  3.169170e+05\n",
       "min     2003.000000  3.027000e+02   1003.000000  4.000000e+01\n",
       "25%     2008.000000  7.003393e+09  17019.000000  1.100075e+04\n",
       "50%     2010.000000  4.510575e+10  32003.000000  2.564650e+04\n",
       "75%     2013.000000  3.389654e+11  42051.000000  6.643825e+04\n",
       "max     2015.000000  4.258041e+14  56037.000000  1.017029e+07"
      ]
     },
     "execution_count": 49,
     "metadata": {},
     "output_type": "execute_result"
    }
   ],
   "source": [
    "df_merged.describe()"
   ]
  },
  {
   "cell_type": "markdown",
   "metadata": {},
   "source": [
    "Creating a csv file in case we need that"
   ]
  },
  {
   "cell_type": "code",
   "execution_count": 52,
   "metadata": {},
   "outputs": [],
   "source": [
    "pd.DataFrame.to_csv(df_merged, 'merged_data.csv', sep=',', na_rep='.', index=False)"
   ]
  }
 ],
 "metadata": {
  "interpreter": {
   "hash": "1b06e8dae6549768e568d0f3a66b6ab8b92ae2f538ca336b4fcd706f8ba3ac8d"
  },
  "kernelspec": {
   "display_name": "Python 3.9.6 64-bit ('base': conda)",
   "name": "python3"
  },
  "language_info": {
   "codemirror_mode": {
    "name": "ipython",
    "version": 3
   },
   "file_extension": ".py",
   "mimetype": "text/x-python",
   "name": "python",
   "nbconvert_exporter": "python",
   "pygments_lexer": "ipython3",
   "version": "3.9.6"
  },
  "orig_nbformat": 4
 },
 "nbformat": 4,
 "nbformat_minor": 2
}
