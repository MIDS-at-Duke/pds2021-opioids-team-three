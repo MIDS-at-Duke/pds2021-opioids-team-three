{
 "cells": [
  {
   "cell_type": "code",
   "execution_count": null,
   "metadata": {},
   "outputs": [],
   "source": [
    "import pandas as pd\n",
    "import numpy as np"
   ]
  },
  {
   "cell_type": "code",
   "execution_count": null,
   "metadata": {},
   "outputs": [],
   "source": [
    "# get all data\n",
    "deaths=pd.read_csv('deaths.csv')\n",
    "populations=pd.read_csv('CountyPopulations.csv')\n",
    "prescriptions=pd.read_csv('prescriptions3')"
   ]
  },
  {
   "cell_type": "markdown",
   "metadata": {},
   "source": [
    "## FLORIDA"
   ]
  },
  {
   "cell_type": "code",
   "execution_count": null,
   "metadata": {},
   "outputs": [],
   "source": [
    "prescriptions['County']=prescriptions['BUYER_COUNTY'] \n",
    "florida=prescriptions[prescriptions.State=='Florida'][['County','T_DATE','MME','State']] # only picking Florida related rows\n",
    "flcounties=prescriptions[prescriptions.State=='Florida']['County'].unique() #getting all counties from Florida (67 of them)\n",
    "missing=[]\n",
    "for j in range(2006,2015):\n",
    "    for i in flcounties:\n",
    "        if i not in[l for l in florida[(florida.County==i)&(florida.T_DATE==j)]['County']]:\n",
    "            missing.append([i,j,'NA','Florida']) # giving NA for the counties with no prescription related info\n",
    "missing_dataframe=pd.DataFrame(missing,columns=['County','T_DATE','MME','State'])\n",
    "updated_prescr=pd.concat([florida,missing_dataframe],axis=0) #contains all FL counties across the years. the ones with NA do not have any prescriptions info\n",
    "updated_prescr['Treatment']='Treatment' #this new column is to make sure we know which state is the control or treatment group\n",
    "updated_prescr.groupby(['T_DATE'])['County'].count() #double checking that all florida counties are included for each year"
   ]
  },
  {
   "cell_type": "markdown",
   "metadata": {},
   "source": [
    "## Georgia"
   ]
  },
  {
   "cell_type": "code",
   "execution_count": null,
   "metadata": {},
   "outputs": [],
   "source": [
    "Georgia=prescriptions[prescriptions.State=='Georgia'][['County','T_DATE','MME','State']].copy() #getting Georgia rows\n",
    "Georgia_counties=prescriptions[(prescriptions.State=='Georgia')&(prescriptions.T_DATE==2013)]['BUYER_COUNTY'].unique() #getting Georgia counties (151 of them)\n",
    "Georgiafinal=Georgia.loc[Georgia.County.isin(Georgia_counties),].copy()\n",
    "Georgiafinal['Treatment']='Control' \n",
    "Georgia.loc[Georgia.County.isin(Georgia_counties),].groupby('T_DATE')['County'].count() #double checking that all georgia counties are included for each year"
   ]
  },
  {
   "cell_type": "markdown",
   "metadata": {},
   "source": [
    "## North Carolina"
   ]
  },
  {
   "cell_type": "code",
   "execution_count": null,
   "metadata": {},
   "outputs": [],
   "source": [
    "#similar analysis done on Georgia is repeated\n",
    "NC=prescriptions[prescriptions.State=='North Carolina'][['County','T_DATE','MME','State']]\n",
    "NC_counties=prescriptions[(prescriptions.State=='North Carolina')&(prescriptions.T_DATE==2013)]['BUYER_COUNTY'].unique()\n",
    "NCfinal=NC.loc[NC.County.isin(NC_counties),]\n",
    "NCfinal['Treatment']='Control'\n",
    "NC.loc[NC.County.isin(NC_counties),].groupby('T_DATE')['County'].count() # confirm all years have the same counties"
   ]
  },
  {
   "cell_type": "markdown",
   "metadata": {},
   "source": [
    "## Kentucky"
   ]
  },
  {
   "cell_type": "code",
   "execution_count": null,
   "metadata": {},
   "outputs": [],
   "source": [
    "#similar analysis done on Georgia is repeated\n",
    "KY=prescriptions[prescriptions.State=='Kentucky'][['County','T_DATE','MME','State']]\n",
    "KY_counties=prescriptions[(prescriptions.State=='Kentucky')&(prescriptions.T_DATE==2013)]['BUYER_COUNTY'].unique()\n",
    "KYfinal=KY.loc[KY.County.isin(KY_counties),]\n",
    "KYfinal['Treatment']='Control'\n",
    "KY.loc[KY.County.isin(KY_counties),].groupby('T_DATE')['County'].count() # confirm all years have the same counties"
   ]
  },
  {
   "cell_type": "markdown",
   "metadata": {},
   "source": [
    "## Putting the treatment and control states in one dataframe"
   ]
  },
  {
   "cell_type": "code",
   "execution_count": null,
   "metadata": {},
   "outputs": [],
   "source": [
    "all_prescriptions=pd.concat([updated_prescr,KYfinal,Georgiafinal,NCfinal],axis=0) #concatenating treatment and control states in one dataframe"
   ]
  },
  {
   "cell_type": "code",
   "execution_count": null,
   "metadata": {},
   "outputs": [],
   "source": [
    "states=['Florida', 'Georgia', 'North Carolina', 'Kentucky']\n",
    "subset=populations.loc[populations.State.isin(states),].copy() #only getting population info on the above states\n",
    "subset['County']=[i.split(' County')[0] for i in subset.County] #renaming values to go from: \"A County\" to just \"A\". \n",
    "all_prescriptions['County']=(all_prescriptions['County'].str.lower()).str.capitalize()\n",
    "all_prescriptions['Year']=all_prescriptions['T_DATE'] #renaming the Year column to match for mergin"
   ]
  },
  {
   "cell_type": "code",
   "execution_count": null,
   "metadata": {},
   "outputs": [],
   "source": [
    "rectifying = { #these are the outlier counties that do not match the names in the census data. I renamed them to help with the merge.\n",
    "    \"De soto\": \"DeSoto\",\n",
    "    \"Indian river\": \"Indian River\",\n",
    "    \"Miami-dade\": \"Miami-Dade\",\n",
    "    \"Palm beach\": \"Palm Beach\",\n",
    "    \"Saint johns\": \"St. Johns\",\n",
    "    \"Saint lucie\": \"St. Lucie\",\n",
    "    \"Saint Johns\": \"St. Johns\",\n",
    "    \"Saint Lucie\": \"St. Lucie\",\n",
    "    \"Santa rosa\": \"Santa Rosa\",\n",
    "    \"Mccracken\": \"McCracken\",\n",
    "    \"Mccreary\": \"McCreary\",\n",
    "    \"Mclean\": \"McLean\",\n",
    "    \"Ben hill\": \"Ben Hill\",\n",
    "    \"Dekalb\": \"DeKalb\",\n",
    "    \"Jeff davis\": \"Jeff Davis\",\n",
    "    \"Mcduffie\": \"McDuffie\",\n",
    "    \"Mcintosh\": \"McIntosh\",\n",
    "    \"Mcdowell\": \"McDowell\",\n",
    "    \"New hanover\": \"New Hanover\",\n",
    "}\n",
    "p=[]\n",
    "for i in all_prescriptions['County']:\n",
    "    if i in rectifying.keys():\n",
    "        p.append(rectifying[i])\n",
    "    else:\n",
    "        p.append(i)\n",
    "all_prescriptions['County']=p #updating the county column for prescriptions to match with census county names "
   ]
  },
  {
   "cell_type": "markdown",
   "metadata": {},
   "source": [
    "# Merging census and prescr data +dealing with NA data"
   ]
  },
  {
   "cell_type": "code",
   "execution_count": null,
   "metadata": {},
   "outputs": [],
   "source": [
    "prescr_merge=pd.merge(all_prescriptions,subset,on=['County','Year','State'],how='left',indicator=True)[['State','County','MME','Population','Year','Treatment','_merge']]\n",
    "prescr_merge[prescr_merge[\"_merge\"] != \"both\"] #everything merged properly"
   ]
  },
  {
   "cell_type": "code",
   "execution_count": null,
   "metadata": {},
   "outputs": [],
   "source": [
    "prescr_merge['MME']=prescr_merge['MME'].replace('NA',np.NaN) \n",
    "prescr_merge['Prescr_rate']=prescr_merge['MME']/prescr_merge['Population'] "
   ]
  },
  {
   "cell_type": "code",
   "execution_count": null,
   "metadata": {},
   "outputs": [],
   "source": [
    "prescr_merge=prescr_merge.sort_values(by=['State','County','Year']).interpolate(method='bfill') #using interpolation to fill in  missing values for Glades.\n",
    "prescr_merge[prescr_merge.County=='Glades']"
   ]
  },
  {
   "cell_type": "code",
   "execution_count": null,
   "metadata": {},
   "outputs": [],
   "source": [
    "prescr_merge[prescr_merge.isnull().any(axis=1)] #as expected, no missing values!! Yay!  "
   ]
  },
  {
   "cell_type": "code",
   "execution_count": null,
   "metadata": {},
   "outputs": [],
   "source": [
    "prescr_pop=prescr_merge.to_csv(\"Prescription-Pop-merge.csv\",index=False)"
   ]
  }
 ],
 "metadata": {
  "interpreter": {
   "hash": "5e9f11f49cd656f291f5777c461e4288f6343aeff66d80fd968f2fc2025425e8"
  },
  "kernelspec": {
   "display_name": "Python 3.9.6 64-bit ('base': conda)",
   "name": "python3"
  },
  "language_info": {
   "codemirror_mode": {
    "name": "ipython",
    "version": 3
   },
   "file_extension": ".py",
   "mimetype": "text/x-python",
   "name": "python",
   "nbconvert_exporter": "python",
   "pygments_lexer": "ipython3",
   "version": "3.9.6"
  },
  "orig_nbformat": 4
 },
 "nbformat": 4,
 "nbformat_minor": 2
}
