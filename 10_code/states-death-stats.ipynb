{
 "cells": [
  {
   "cell_type": "code",
   "execution_count": 6,
   "metadata": {},
   "outputs": [],
   "source": [
    "import pandas as pd\n",
    "import numpy as np\n",
    "import os"
   ]
  },
  {
   "cell_type": "code",
   "execution_count": 73,
   "metadata": {},
   "outputs": [],
   "source": [
    "userhome = os.path.expanduser('~')\n",
    "\n",
    "column_names = [\n",
    "    \"Notes\",\n",
    "    \"County\",\n",
    "    \"County Code\",\n",
    "    \"Year\",\n",
    "    \"Year Code\",\n",
    "    \"Drug/Alcohol Induced Cause\",\n",
    "    \"Drug/Alcohol Induced Cause Code\",\n",
    "    \"Deaths\",\n",
    "]\n",
    "rows = []\n",
    "drug_code=['D1', 'D9', 'D2', 'D4']\n",
    "for i in range(3,10):\n",
    "    csvfile = userhome + r'/Documents/IDS 720/Mid-Sem-Proj/pds2021-opioids-team-three/00-source-data/US_VitalStatistics/Underlying Cause of Death, 200'+str(i)+'.txt'\n",
    "    death_year = pd.read_table(csvfile)\n",
    "    final=death_year[death_year['Drug/Alcohol Induced Cause Code'].isin(drug_code)]\n",
    "    for row in final.to_numpy():\n",
    "        rows.append(row)\n",
    "for i in range(10,16):\n",
    "    csvfile = userhome + r'/Documents/IDS 720/Mid-Sem-Proj/pds2021-opioids-team-three/00-source-data/US_VitalStatistics/Underlying Cause of Death, 20'+str(i)+'.txt'\n",
    "    death_year = pd.read_table(csvfile)\n",
    "    final=death_year[death_year['Drug/Alcohol Induced Cause Code'].isin(drug_code)]\n",
    "    for row in final.to_numpy():\n",
    "        rows.append(row)\n",
    "deaths=pd.DataFrame(rows,columns=['Notes', 'County', 'County Code', 'Year', 'Year Code',\n",
    "       'Drug/Alcohol Induced Cause', 'Drug/Alcohol Induced Cause Code',\n",
    "       'Deaths'])[['County', 'County Code', 'Year',\n",
    "       'Drug/Alcohol Induced Cause', 'Drug/Alcohol Induced Cause Code',\n",
    "       'Deaths']]"
   ]
  },
  {
   "cell_type": "code",
   "execution_count": 74,
   "metadata": {},
   "outputs": [],
   "source": [
    "deaths1=deaths.groupby(['County', 'County Code', 'Year'])['Deaths'].sum().reset_index()\n",
    "deaths1['State']=[i.split(',')[1] for i in deaths1.County]\n",
    "deaths1['County']=[i.split(',')[0] for i in deaths1.County]"
   ]
  },
  {
   "cell_type": "code",
   "execution_count": 81,
   "metadata": {},
   "outputs": [
    {
     "data": {
      "text/plain": [
       "array([' LA', ' ID', ' CO', ' IL', ' OH', ' PA', ' SC', ' FL', ' NC',\n",
       "       ' CA', ' NY', ' VA', ' MI', ' MD', ' IN', ' AK', ' TN', ' TX',\n",
       "       ' ME', ' MN', ' NJ', ' AL', ' MA', ' GA', ' KY', ' NH', ' AR',\n",
       "       ' WA', ' WV', ' NM', ' MO', ' RI', ' WI', ' OK', ' KS', ' UT',\n",
       "       ' NV', ' MT', ' ND', ' VT', ' OR', ' AZ', ' MS', ' DC', ' NE',\n",
       "       ' CT', ' WY', ' HI', ' IA', ' DE', ' SD'], dtype=object)"
      ]
     },
     "execution_count": 81,
     "metadata": {},
     "output_type": "execute_result"
    }
   ],
   "source": [
    "deaths1.State.unique()"
   ]
  },
  {
   "cell_type": "code",
   "execution_count": 87,
   "metadata": {},
   "outputs": [
    {
     "data": {
      "text/html": [
       "<div>\n",
       "<style scoped>\n",
       "    .dataframe tbody tr th:only-of-type {\n",
       "        vertical-align: middle;\n",
       "    }\n",
       "\n",
       "    .dataframe tbody tr th {\n",
       "        vertical-align: top;\n",
       "    }\n",
       "\n",
       "    .dataframe thead th {\n",
       "        text-align: right;\n",
       "    }\n",
       "</style>\n",
       "<table border=\"1\" class=\"dataframe\">\n",
       "  <thead>\n",
       "    <tr style=\"text-align: right;\">\n",
       "      <th></th>\n",
       "      <th>County</th>\n",
       "      <th>County Code</th>\n",
       "      <th>Year</th>\n",
       "      <th>Deaths</th>\n",
       "      <th>State</th>\n",
       "    </tr>\n",
       "  </thead>\n",
       "  <tbody>\n",
       "    <tr>\n",
       "      <th>0</th>\n",
       "      <td>Acadia Parish</td>\n",
       "      <td>22001.0</td>\n",
       "      <td>2003.0</td>\n",
       "      <td>11.0</td>\n",
       "      <td>LA</td>\n",
       "    </tr>\n",
       "    <tr>\n",
       "      <th>1</th>\n",
       "      <td>Acadia Parish</td>\n",
       "      <td>22001.0</td>\n",
       "      <td>2005.0</td>\n",
       "      <td>23.0</td>\n",
       "      <td>LA</td>\n",
       "    </tr>\n",
       "    <tr>\n",
       "      <th>2</th>\n",
       "      <td>Acadia Parish</td>\n",
       "      <td>22001.0</td>\n",
       "      <td>2006.0</td>\n",
       "      <td>19.0</td>\n",
       "      <td>LA</td>\n",
       "    </tr>\n",
       "    <tr>\n",
       "      <th>3</th>\n",
       "      <td>Acadia Parish</td>\n",
       "      <td>22001.0</td>\n",
       "      <td>2007.0</td>\n",
       "      <td>19.0</td>\n",
       "      <td>LA</td>\n",
       "    </tr>\n",
       "    <tr>\n",
       "      <th>4</th>\n",
       "      <td>Acadia Parish</td>\n",
       "      <td>22001.0</td>\n",
       "      <td>2009.0</td>\n",
       "      <td>11.0</td>\n",
       "      <td>LA</td>\n",
       "    </tr>\n",
       "  </tbody>\n",
       "</table>\n",
       "</div>"
      ],
      "text/plain": [
       "          County  County Code    Year Deaths State\n",
       "0  Acadia Parish      22001.0  2003.0   11.0    LA\n",
       "1  Acadia Parish      22001.0  2005.0   23.0    LA\n",
       "2  Acadia Parish      22001.0  2006.0   19.0    LA\n",
       "3  Acadia Parish      22001.0  2007.0   19.0    LA\n",
       "4  Acadia Parish      22001.0  2009.0   11.0    LA"
      ]
     },
     "execution_count": 87,
     "metadata": {},
     "output_type": "execute_result"
    }
   ],
   "source": [
    "deaths1.head()"
   ]
  },
  {
   "cell_type": "code",
   "execution_count": 68,
   "metadata": {},
   "outputs": [],
   "source": [
    "deaths1= deaths1.to_csv(\"deaths.csv\", index=False)"
   ]
  },
  {
   "cell_type": "code",
   "execution_count": null,
   "metadata": {},
   "outputs": [],
   "source": []
  }
 ],
 "metadata": {
  "interpreter": {
   "hash": "5e9f11f49cd656f291f5777c461e4288f6343aeff66d80fd968f2fc2025425e8"
  },
  "kernelspec": {
   "display_name": "Python 3.9.6 64-bit ('base': conda)",
   "name": "python3"
  },
  "language_info": {
   "codemirror_mode": {
    "name": "ipython",
    "version": 3
   },
   "file_extension": ".py",
   "mimetype": "text/x-python",
   "name": "python",
   "nbconvert_exporter": "python",
   "pygments_lexer": "ipython3",
   "version": "3.9.6"
  },
  "orig_nbformat": 4
 },
 "nbformat": 4,
 "nbformat_minor": 2
}
